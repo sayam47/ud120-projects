{
  "nbformat": 4,
  "nbformat_minor": 0,
  "metadata": {
    "colab": {
      "name": "FrozenLake-Mellowmax-vs-Boltzmann.ipynb",
      "version": "0.3.2",
      "provenance": [],
      "include_colab_link": true
    },
    "kernelspec": {
      "name": "python3",
      "display_name": "Python 3"
    }
  },
  "cells": [
    {
      "cell_type": "markdown",
      "metadata": {
        "id": "view-in-github",
        "colab_type": "text"
      },
      "source": [
        "<a href=\"https://colab.research.google.com/github/sayam47/ud120-projects/blob/master/FrozenLake_Mellowmax_vs_Boltzmann.ipynb\" target=\"_parent\"><img src=\"https://colab.research.google.com/assets/colab-badge.svg\" alt=\"Open In Colab\"/></a>"
      ]
    },
    {
      "metadata": {
        "id": "zidIrI3qYPcQ",
        "colab_type": "code",
        "colab": {}
      },
      "cell_type": "code",
      "source": [
        "from collections import deque\n",
        "from collections import defaultdict\n",
        "import gym\n",
        "import sys\n",
        "import math\n",
        "import numpy as np\n",
        "import warnings\n",
        "warnings.filterwarnings('ignore')\n"
      ],
      "execution_count": 0,
      "outputs": []
    },
    {
      "metadata": {
        "id": "xtjqSSs8YV9F",
        "colab_type": "code",
        "colab": {}
      },
      "cell_type": "code",
      "source": [
        "def interact(env, agent, num_episodes=5000, window=100):\n",
        "    # initialize average rewards\n",
        "    avg_rewards = deque(maxlen=num_episodes)\n",
        "    # initialize best average reward\n",
        "    best_avg_reward = -math.inf\n",
        "    # initialize monitor for most recent rewards\n",
        "    samp_rewards = deque(maxlen=window)\n",
        "    # for each episode\n",
        "    for i_episode in range(1, num_episodes+1):\n",
        "        # begin the episode\n",
        "        state = env.reset()\n",
        "        # initialize the sampled reward\n",
        "        samp_reward = 0\n",
        "        while True:\n",
        "            # agent selects an action\n",
        "            action = agent.select_action(state)\n",
        "            # agent performs the selected action\n",
        "#             env.render()\n",
        "            next_state, reward, done, _ = env.step(action)\n",
        "            # agent performs internal updates based on sampled experience\n",
        "            agent.step(state, action, reward, next_state, done)\n",
        "            # update the sampled reward\n",
        "            samp_reward += reward\n",
        "            # update the state (s <- s') to next time step\n",
        "            state = next_state\n",
        "#             print(\"\\rRewards : {}\".format(samp_reward),end=\"\")\n",
        "            if done:\n",
        "                # save final sampled reward\n",
        "                samp_rewards.append(samp_reward)\n",
        "                break\n",
        "        \n",
        "        avg_reward=0\n",
        "        if (i_episode >= 100):\n",
        "            # get average reward from last 100 episodes\n",
        "            avg_reward = np.mean(samp_rewards)\n",
        "            # append to deque\n",
        "            avg_rewards.append(avg_reward)\n",
        "            # update best average reward\n",
        "            if avg_reward > best_avg_reward:\n",
        "                best_avg_reward = avg_reward\n",
        "        averages_history.append(samp_reward)\n",
        "        # check if task is solved (according to OpenAI Gym)\n",
        "        if samp_reward >= 1:\n",
        "#             print('\\nEnvironment solved in {} episodes.'.format(i_episode), end=\"\")\n",
        "            return i_episode\n",
        "            break\n",
        "#         if i_episode == num_episodes: print('\\n')\n",
        "    return 10000"
      ],
      "execution_count": 0,
      "outputs": []
    },
    {
      "metadata": {
        "id": "2li2MDPKYaEK",
        "colab_type": "code",
        "colab": {}
      },
      "cell_type": "code",
      "source": [
        "from scipy.optimize import brentq\n",
        "\n",
        "class Agent:\n",
        "\n",
        "    def __init__(self, nA=4,omega=25,beta=1,mellow=0):\n",
        "        self.mellow=mellow\n",
        "        self.beta=beta\n",
        "        self.nA = nA\n",
        "        self.omega=omega\n",
        "        self.Q = defaultdict(lambda: np.zeros(self.nA))\n",
        "        self.epsilon = 0\n",
        "        self.decay = 0\n",
        "        self.gamma = 0\n",
        "        self.alpha = 0\n",
        "        self.epsilon_function = None;\n",
        "        self.next_value_function = None;\n",
        "        #best score for self.init_for_sarsa() is 9.261 | slower to learn that q-learning\n",
        "        #self.init_for_sarsa()\n",
        "        #best score for self.init_for_q_learning is 9.26\n",
        "        self.init_for_q_learning()\n",
        "        #fixed epsilon=0.005 with alpha = 1 and gamma = 1 was very bad with a score of 8.655\n",
        "        #current settings succeeded with 9.253\n",
        "        #self.init_for_expected_sarsa()\n",
        "    def init_for_sarsa(self):\n",
        "        self.epsilon = 1\n",
        "        self.decay = 0.5\n",
        "        #discounted return rate\n",
        "        self.gamma = 0.9\n",
        "        #tendency to use recent event\n",
        "        self.alpha = 0.1\n",
        "        self.epsilon_function = self.decayed_epsilon\n",
        "        def calculate(next_state):\n",
        "            return self.Q[next_state][self.select_action(next_state)]\n",
        "        self.next_value_function = calculate \n",
        "    def init_for_q_learning(self):\n",
        "        self.epsilon = 1\n",
        "        self.decay = 0.9\n",
        "        #discounted return rate\n",
        "        self.gamma = 0.9\n",
        "        #tendency to use recent event\n",
        "        self.alpha = 0.1\n",
        "        self.epsilon_function = self.decayed_min_epsilon\n",
        "        def calculate(next_state):\n",
        "            return np.max(self.Q[next_state])\n",
        "        self.next_value_function = calculate\n",
        "    def init_for_expected_sarsa(self):\n",
        "        self.epsilon = 0.05\n",
        "        self.decay = 0.5\n",
        "        #discounted return rate\n",
        "        self.gamma = 0.8\n",
        "        #tendency to use recent event\n",
        "        self.alpha = 0.7\n",
        "        self.epsilon_function = self.fixed_epsilon\n",
        "        def calculate(next_state):\n",
        "            policy_s = self.get_action_probability(next_state)\n",
        "            next_action_value = np.dot(self.Q[next_state], policy_s)\n",
        "            return np.max(self.Q[next_state])\n",
        "        self.next_value_function = calculate\n",
        "    def decayed_min_epsilon(self):\n",
        "        self.epsilon = max(self.epsilon*self.decay,0.01)\n",
        "    def decayed_epsilon(self):\n",
        "        self.epsilon *= self.decay\n",
        "    def mellowmax(self,beta,state):\n",
        "        c=np.max(self.Q[state])\n",
        "#         c = 0\n",
        "        mellow=c+np.log(np.sum(np.exp(self.omega*(self.Q[state]-c)))/self.nA)/self.omega\n",
        "        ans=np.sum(np.exp((self.Q[state]-mellow)*beta)*(self.Q[state]-mellow))\n",
        "        return ans\n",
        "    def fixed_epsilon(self):\n",
        "        pass\n",
        "    def get_action_probability(self, state):\n",
        "#         policy_s = np.ones(self.nA) * self.epsilon / self.nA\n",
        "#         #find the best action and assign it the other side of the probabiliy epsilon\n",
        "#         best_action = np.argmax(self.Q[state])\n",
        "#         policy_s[best_action] += 1 - self.epsilon\n",
        "#         return policy_s\n",
        "#         try:\n",
        "#         except:\n",
        "#             print(self.Q[state])\n",
        "      \n",
        "        if self.mellow==1:\n",
        "            beta=brentq(self.mellowmax,-500,500,args=(state,))\n",
        "        else:\n",
        "            beta=self.beta\n",
        "        policy_s = np.exp(beta*self.Q[state])/np.sum(np.exp(beta*self.Q[state]))\n",
        "#         print(beta)\n",
        "        return policy_s\n",
        "    def select_action(self, state):\n",
        "        policy_s = self.get_action_probability(state)\n",
        "        return np.random.choice(np.arange(self.nA), p=policy_s)\n",
        "    \n",
        "    def step(self, state, action, reward, next_state, done):\n",
        "        self.epsilon_function()\n",
        "        next_action_value = 0\n",
        "        if not done:\n",
        "            next_action_value = self.next_value_function(next_state)\n",
        "        self.Q[state][action] += self.alpha * (reward  + self.gamma * next_action_value - self.Q[state][action])"
      ],
      "execution_count": 0,
      "outputs": []
    },
    {
      "metadata": {
        "id": "EMm3wryCYdpH",
        "colab_type": "code",
        "colab": {}
      },
      "cell_type": "code",
      "source": [
        "env = gym.make('FrozenLake-v0')\n"
      ],
      "execution_count": 0,
      "outputs": []
    },
    {
      "metadata": {
        "id": "_La_u0xbYe_k",
        "colab_type": "code",
        "colab": {}
      },
      "cell_type": "code",
      "source": [
        "import matplotlib.pyplot as plt\n",
        "%matplotlib inline"
      ],
      "execution_count": 0,
      "outputs": []
    },
    {
      "metadata": {
        "id": "ZscPTNg9YhIf",
        "colab_type": "code",
        "colab": {}
      },
      "cell_type": "code",
      "source": [
        "its=50\n",
        "his_b=[]\n",
        "solve_his_b=[]\n",
        "for i in range(1,31):\n",
        "    b=0\n",
        "    for j in range(its):\n",
        "        averages_history=[]\n",
        "        agent = Agent(beta=i)\n",
        "        agent.init_for_sarsa()\n",
        "        sol=interact(env,agent)\n",
        "        b+=sol\n",
        "    b/=its\n",
        "    solve_his_b.append(b)\n",
        "#         his.append(averages_history)\n",
        "    "
      ],
      "execution_count": 0,
      "outputs": []
    },
    {
      "metadata": {
        "id": "RRoXjaRbYk9M",
        "colab_type": "code",
        "colab": {}
      },
      "cell_type": "code",
      "source": [
        "its=50\n",
        "his_m=[]\n",
        "solve_his_m=[]\n",
        "for i in range(1,31):\n",
        "    b=0\n",
        "    for j in range(its):\n",
        "        averages_history=[]\n",
        "        agent = Agent(omega=i,mellow=1)\n",
        "        agent.init_for_sarsa()\n",
        "        sol=interact(env,agent)\n",
        "        b+=sol\n",
        "    b/=its\n",
        "    solve_his_m.append(b)\n",
        "#         his.append(averages_history)\n",
        "    "
      ],
      "execution_count": 0,
      "outputs": []
    },
    {
      "metadata": {
        "id": "5tb7Y1lZYoyg",
        "colab_type": "code",
        "outputId": "03a4bc4d-6b12-45f8-f58e-27c712d02cb3",
        "colab": {
          "base_uri": "https://localhost:8080/",
          "height": 282
        }
      },
      "cell_type": "code",
      "source": [
        "fig_best=plt.figure()\n",
        "ax=fig_best.add_subplot(111)\n",
        "# for i in range(1,31,5):\n",
        "#     z=str(i)\n",
        "#     plt.plot(np.arange(0,8),his[i//5][:8],label=z)\n",
        "plt.plot(np.arange(1,31),solve_his_b,label='boltzmaan')\n",
        "plt.plot(np.arange(1,31),solve_his_m,label='mellowmax')\n",
        "plt.xlabel('omega/beta')\n",
        "plt.ylabel('number of iterations')\n",
        "plt.ylim(0,100)\n",
        "plt.legend()\n",
        "plt.savefig('lake.png')"
      ],
      "execution_count": 0,
      "outputs": [
        {
          "output_type": "display_data",
          "data": {
            "image/png": "[encoded data removed]",
            "text/plain": [
              "<Figure size 432x288 with 1 Axes>"
            ]
          },
          "metadata": {
            "tags": []
          }
        }
      ]
    }
  ]
}